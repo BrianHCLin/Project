{
 "cells": [
  {
   "cell_type": "markdown",
   "metadata": {},
   "source": [
    "# STATS 131 Final Project: College Scorecard Data"
   ]
  },
  {
   "cell_type": "markdown",
   "metadata": {},
   "source": [
    "## Team *Fuh-GIT-about-it*"
   ]
  },
  {
   "cell_type": "markdown",
   "metadata": {},
   "source": [
    "### Group Members: Ignat Kulinka, Brian Lin, Aida Ylanan"
   ]
  },
  {
   "cell_type": "markdown",
   "metadata": {},
   "source": [
    "# Data Context and Description"
   ]
  },
  {
   "cell_type": "markdown",
   "metadata": {},
   "source": [
    "## Background Information"
   ]
  },
  {
   "cell_type": "markdown",
   "metadata": {},
   "source": [
    "The data we chose for the project comes from College Scorecard, a government initiative to provide unbiased and reliable information on the vast number of colleges and universities that operate in the United States. College Scorecard contains a number of metrics that can be used to asses institution’s prior performance, student outcomes and financial costs of attending. The dataset in available publically online and as a measure to protect privacy those metrics in the data set that end up with less than 30 students in the denominator are replaced with a ‘PrivacySuppressed’ label. The data is updated annually but we found the 2014-2015 dataset to be the most completed and used it for our project.\n",
    "\n",
    "In itself, College Scorecard is made of three smaller dataset that compliment each other. First dataset comes from yearly surveys administered by the Department of Education’s  National Center for Education Statistics (NCES). The data is then collected and stored in the The Integrated Postsecondary Education Data System (IPEDS) which is a part of the NCES . Under the Higher Education Act, all institutions that participate in Title IV federal student aid programs must complete the IPEDS questionnaires. Thus, IPEDS is a great source of institutional statistics such as graduation rates for student subgroups, retention rates, tuition and cost of attendance. The has a severe limitation of only having graduation rates for full-time, first-time students. As a result, some metrics do not include those students who have previous higher education experience, transfer or part-time students.\n",
    "\n",
    "The second part of the dataset comes from National Student Loan Data System (NSLDS). It is Department of Education’s central database for monitoring federal borrowers and grant recipients from as far back as 1960’s. NSLDS provides important financial metrics such as median loan debt and repayment rates.\n",
    "\n",
    "The last part of the College Scorecard is the  Administrative Earnings Data from Tax Records maintained by the Department of Treasury. This dataset describes the labor market outcomes for graduates of specific institutions. The data supplied in the College Scorecard contains each schools’ aggregated values for mean/median earnings among workers and percentiles of the earnings distribution for workers. "
   ]
  },
  {
   "cell_type": "markdown",
   "metadata": {},
   "source": [
    "**Who collected the data?**   \n",
    "Department of Education’s National Center for Education Statistics (NCES), National Student Loan Data System (NSLDS) and administrative tax records maintained by the Department of the Treasury. \n",
    "\n",
    "**When was the data collected?**   \n",
    "We chose the most recent and complete dataset which was collected for the 2015-2016 academic year. \n",
    "\n",
    "**How was the data collected?**   \n",
    "The data from National Center for Education Statistics (NCES) is collected through surveys. National Student Loan Data System pulls its data from FAFSA and other financial aid documents. Lastly, the portion of the data that comes from the Department of Treasury comes from W-2’s and other tax forms. \n",
    "\n",
    "**Does this have any implications on our analysis?**  \n",
    "Most importantly, graduation rates are only reported for full-time, first-time students, so graduation rate information is not available for students who may have previous higher education experience or for part-time students.  Another limitation is that outcomes are not recorded for students who transfer from the institution. Thus, we have to be careful when we are generalizing and drawing conclusions from our findings.\n",
    "\n",
    "Lastly, in order to protect privacy of students any field that has less than 30 people in the denominator is labeled ‘PrivacySuppressed’. This makes our analysis and conclusions only relevant for larger institutions. In addition, the financial information provided by FAFSA and the Department of Treasury only contains information on Title IV students. This means that we can only draw conclusions about those students who are eligible for Federal Financial Aid. \n"
   ]
  },
  {
   "cell_type": "markdown",
   "metadata": {},
   "source": [
    "# Exploratory Data Analysis"
   ]
  },
  {
   "cell_type": "markdown",
   "metadata": {},
   "source": [
    "## Analysis: Institution Type"
   ]
  },
  {
   "cell_type": "markdown",
   "metadata": {},
   "source": [
    "### *Guiding Question: What's the difference between private and public schools?* "
   ]
  },
  {
   "cell_type": "markdown",
   "metadata": {},
   "source": [
    "To answer this question, we examined the variable *CONTROL*, a string variable that codes for the whether it is: **public**, **private nonprofit**, and **private for-profit**. First, we wanted to gether some basic measurements of the data we found."
   ]
  },
  {
   "cell_type": "code",
   "execution_count": 1,
   "metadata": {
    "collapsed": true
   },
   "outputs": [
    {
     "ename": "FileNotFoundError",
     "evalue": "File b'/home/ignat/Documents/Stats 131/Most-Recent-Cohorts-All-Data-Elements.csv' does not exist",
     "output_type": "error",
     "traceback": [
      "\u001b[0;31m---------------------------------------------------------------------------\u001b[0m",
      "\u001b[0;31mFileNotFoundError\u001b[0m                         Traceback (most recent call last)",
      "\u001b[0;32m<ipython-input-1-bdc3834aff11>\u001b[0m in \u001b[0;36m<module>\u001b[0;34m()\u001b[0m\n\u001b[1;32m      6\u001b[0m \u001b[0;34m\u001b[0m\u001b[0m\n\u001b[1;32m      7\u001b[0m \u001b[0;31m# import the dataset\u001b[0m\u001b[0;34m\u001b[0m\u001b[0;34m\u001b[0m\u001b[0m\n\u001b[0;32m----> 8\u001b[0;31m \u001b[0mdf\u001b[0m \u001b[0;34m=\u001b[0m \u001b[0mpd\u001b[0m\u001b[0;34m.\u001b[0m\u001b[0mread_csv\u001b[0m\u001b[0;34m(\u001b[0m\u001b[0;34m'~/Documents/Stats 131/Most-Recent-Cohorts-All-Data-Elements.csv'\u001b[0m\u001b[0;34m,\u001b[0m \u001b[0mlow_memory\u001b[0m\u001b[0;34m=\u001b[0m\u001b[0;32mFalse\u001b[0m\u001b[0;34m)\u001b[0m\u001b[0;34m\u001b[0m\u001b[0m\n\u001b[0m",
      "\u001b[0;32m~/anaconda3/envs/eq_env/lib/python3.6/site-packages/pandas/io/parsers.py\u001b[0m in \u001b[0;36mparser_f\u001b[0;34m(filepath_or_buffer, sep, delimiter, header, names, index_col, usecols, squeeze, prefix, mangle_dupe_cols, dtype, engine, converters, true_values, false_values, skipinitialspace, skiprows, nrows, na_values, keep_default_na, na_filter, verbose, skip_blank_lines, parse_dates, infer_datetime_format, keep_date_col, date_parser, dayfirst, iterator, chunksize, compression, thousands, decimal, lineterminator, quotechar, quoting, escapechar, comment, encoding, dialect, tupleize_cols, error_bad_lines, warn_bad_lines, skipfooter, doublequote, delim_whitespace, low_memory, memory_map, float_precision)\u001b[0m\n\u001b[1;32m    676\u001b[0m                     skip_blank_lines=skip_blank_lines)\n\u001b[1;32m    677\u001b[0m \u001b[0;34m\u001b[0m\u001b[0m\n\u001b[0;32m--> 678\u001b[0;31m         \u001b[0;32mreturn\u001b[0m \u001b[0m_read\u001b[0m\u001b[0;34m(\u001b[0m\u001b[0mfilepath_or_buffer\u001b[0m\u001b[0;34m,\u001b[0m \u001b[0mkwds\u001b[0m\u001b[0;34m)\u001b[0m\u001b[0;34m\u001b[0m\u001b[0m\n\u001b[0m\u001b[1;32m    679\u001b[0m \u001b[0;34m\u001b[0m\u001b[0m\n\u001b[1;32m    680\u001b[0m     \u001b[0mparser_f\u001b[0m\u001b[0;34m.\u001b[0m\u001b[0m__name__\u001b[0m \u001b[0;34m=\u001b[0m \u001b[0mname\u001b[0m\u001b[0;34m\u001b[0m\u001b[0m\n",
      "\u001b[0;32m~/anaconda3/envs/eq_env/lib/python3.6/site-packages/pandas/io/parsers.py\u001b[0m in \u001b[0;36m_read\u001b[0;34m(filepath_or_buffer, kwds)\u001b[0m\n\u001b[1;32m    438\u001b[0m \u001b[0;34m\u001b[0m\u001b[0m\n\u001b[1;32m    439\u001b[0m     \u001b[0;31m# Create the parser.\u001b[0m\u001b[0;34m\u001b[0m\u001b[0;34m\u001b[0m\u001b[0m\n\u001b[0;32m--> 440\u001b[0;31m     \u001b[0mparser\u001b[0m \u001b[0;34m=\u001b[0m \u001b[0mTextFileReader\u001b[0m\u001b[0;34m(\u001b[0m\u001b[0mfilepath_or_buffer\u001b[0m\u001b[0;34m,\u001b[0m \u001b[0;34m**\u001b[0m\u001b[0mkwds\u001b[0m\u001b[0;34m)\u001b[0m\u001b[0;34m\u001b[0m\u001b[0m\n\u001b[0m\u001b[1;32m    441\u001b[0m \u001b[0;34m\u001b[0m\u001b[0m\n\u001b[1;32m    442\u001b[0m     \u001b[0;32mif\u001b[0m \u001b[0mchunksize\u001b[0m \u001b[0;32mor\u001b[0m \u001b[0miterator\u001b[0m\u001b[0;34m:\u001b[0m\u001b[0;34m\u001b[0m\u001b[0m\n",
      "\u001b[0;32m~/anaconda3/envs/eq_env/lib/python3.6/site-packages/pandas/io/parsers.py\u001b[0m in \u001b[0;36m__init__\u001b[0;34m(self, f, engine, **kwds)\u001b[0m\n\u001b[1;32m    785\u001b[0m             \u001b[0mself\u001b[0m\u001b[0;34m.\u001b[0m\u001b[0moptions\u001b[0m\u001b[0;34m[\u001b[0m\u001b[0;34m'has_index_names'\u001b[0m\u001b[0;34m]\u001b[0m \u001b[0;34m=\u001b[0m \u001b[0mkwds\u001b[0m\u001b[0;34m[\u001b[0m\u001b[0;34m'has_index_names'\u001b[0m\u001b[0;34m]\u001b[0m\u001b[0;34m\u001b[0m\u001b[0m\n\u001b[1;32m    786\u001b[0m \u001b[0;34m\u001b[0m\u001b[0m\n\u001b[0;32m--> 787\u001b[0;31m         \u001b[0mself\u001b[0m\u001b[0;34m.\u001b[0m\u001b[0m_make_engine\u001b[0m\u001b[0;34m(\u001b[0m\u001b[0mself\u001b[0m\u001b[0;34m.\u001b[0m\u001b[0mengine\u001b[0m\u001b[0;34m)\u001b[0m\u001b[0;34m\u001b[0m\u001b[0m\n\u001b[0m\u001b[1;32m    788\u001b[0m \u001b[0;34m\u001b[0m\u001b[0m\n\u001b[1;32m    789\u001b[0m     \u001b[0;32mdef\u001b[0m \u001b[0mclose\u001b[0m\u001b[0;34m(\u001b[0m\u001b[0mself\u001b[0m\u001b[0;34m)\u001b[0m\u001b[0;34m:\u001b[0m\u001b[0;34m\u001b[0m\u001b[0m\n",
      "\u001b[0;32m~/anaconda3/envs/eq_env/lib/python3.6/site-packages/pandas/io/parsers.py\u001b[0m in \u001b[0;36m_make_engine\u001b[0;34m(self, engine)\u001b[0m\n\u001b[1;32m   1012\u001b[0m     \u001b[0;32mdef\u001b[0m \u001b[0m_make_engine\u001b[0m\u001b[0;34m(\u001b[0m\u001b[0mself\u001b[0m\u001b[0;34m,\u001b[0m \u001b[0mengine\u001b[0m\u001b[0;34m=\u001b[0m\u001b[0;34m'c'\u001b[0m\u001b[0;34m)\u001b[0m\u001b[0;34m:\u001b[0m\u001b[0;34m\u001b[0m\u001b[0m\n\u001b[1;32m   1013\u001b[0m         \u001b[0;32mif\u001b[0m \u001b[0mengine\u001b[0m \u001b[0;34m==\u001b[0m \u001b[0;34m'c'\u001b[0m\u001b[0;34m:\u001b[0m\u001b[0;34m\u001b[0m\u001b[0m\n\u001b[0;32m-> 1014\u001b[0;31m             \u001b[0mself\u001b[0m\u001b[0;34m.\u001b[0m\u001b[0m_engine\u001b[0m \u001b[0;34m=\u001b[0m \u001b[0mCParserWrapper\u001b[0m\u001b[0;34m(\u001b[0m\u001b[0mself\u001b[0m\u001b[0;34m.\u001b[0m\u001b[0mf\u001b[0m\u001b[0;34m,\u001b[0m \u001b[0;34m**\u001b[0m\u001b[0mself\u001b[0m\u001b[0;34m.\u001b[0m\u001b[0moptions\u001b[0m\u001b[0;34m)\u001b[0m\u001b[0;34m\u001b[0m\u001b[0m\n\u001b[0m\u001b[1;32m   1015\u001b[0m         \u001b[0;32melse\u001b[0m\u001b[0;34m:\u001b[0m\u001b[0;34m\u001b[0m\u001b[0m\n\u001b[1;32m   1016\u001b[0m             \u001b[0;32mif\u001b[0m \u001b[0mengine\u001b[0m \u001b[0;34m==\u001b[0m \u001b[0;34m'python'\u001b[0m\u001b[0;34m:\u001b[0m\u001b[0;34m\u001b[0m\u001b[0m\n",
      "\u001b[0;32m~/anaconda3/envs/eq_env/lib/python3.6/site-packages/pandas/io/parsers.py\u001b[0m in \u001b[0;36m__init__\u001b[0;34m(self, src, **kwds)\u001b[0m\n\u001b[1;32m   1706\u001b[0m         \u001b[0mkwds\u001b[0m\u001b[0;34m[\u001b[0m\u001b[0;34m'usecols'\u001b[0m\u001b[0;34m]\u001b[0m \u001b[0;34m=\u001b[0m \u001b[0mself\u001b[0m\u001b[0;34m.\u001b[0m\u001b[0musecols\u001b[0m\u001b[0;34m\u001b[0m\u001b[0m\n\u001b[1;32m   1707\u001b[0m \u001b[0;34m\u001b[0m\u001b[0m\n\u001b[0;32m-> 1708\u001b[0;31m         \u001b[0mself\u001b[0m\u001b[0;34m.\u001b[0m\u001b[0m_reader\u001b[0m \u001b[0;34m=\u001b[0m \u001b[0mparsers\u001b[0m\u001b[0;34m.\u001b[0m\u001b[0mTextReader\u001b[0m\u001b[0;34m(\u001b[0m\u001b[0msrc\u001b[0m\u001b[0;34m,\u001b[0m \u001b[0;34m**\u001b[0m\u001b[0mkwds\u001b[0m\u001b[0;34m)\u001b[0m\u001b[0;34m\u001b[0m\u001b[0m\n\u001b[0m\u001b[1;32m   1709\u001b[0m \u001b[0;34m\u001b[0m\u001b[0m\n\u001b[1;32m   1710\u001b[0m         \u001b[0mpassed_names\u001b[0m \u001b[0;34m=\u001b[0m \u001b[0mself\u001b[0m\u001b[0;34m.\u001b[0m\u001b[0mnames\u001b[0m \u001b[0;32mis\u001b[0m \u001b[0;32mNone\u001b[0m\u001b[0;34m\u001b[0m\u001b[0m\n",
      "\u001b[0;32mpandas/_libs/parsers.pyx\u001b[0m in \u001b[0;36mpandas._libs.parsers.TextReader.__cinit__\u001b[0;34m()\u001b[0m\n",
      "\u001b[0;32mpandas/_libs/parsers.pyx\u001b[0m in \u001b[0;36mpandas._libs.parsers.TextReader._setup_parser_source\u001b[0;34m()\u001b[0m\n",
      "\u001b[0;31mFileNotFoundError\u001b[0m: File b'/home/ignat/Documents/Stats 131/Most-Recent-Cohorts-All-Data-Elements.csv' does not exist"
     ]
    }
   ],
   "source": [
    "# importing/loading python packages\n",
    "import numpy as np\n",
    "import pandas as pd\n",
    "import seaborn as sns\n",
    "import matplotlib.pyplot as plt\n",
    "\n",
    "# import the dataset\n",
    "df = pd.read_csv('~/Documents/Stats 131/Most-Recent-Cohorts-All-Data-Elements.csv', low_memory=False)"
   ]
  },
  {
   "cell_type": "code",
   "execution_count": null,
   "metadata": {
    "collapsed": true
   },
   "outputs": [],
   "source": [
    "# average cost of attendance vs median earnings of students after 10 years \n",
    "\n",
    "# grab the columns that we want and drop any rows with missing values\n",
    "cols = ['INSTNM', 'COSTT4_A', 'MD_EARN_WNE_P10', 'CONTROL', 'AVGFACSAL', 'TUITIONFEE_IN', 'TUITIONFEE_OUT', 'PREDDEG']\n",
    "df_return = df[cols].dropna()\n",
    "\n",
    "# filter out PrivacySuppressed\n",
    "df_return = df_return[df_return['MD_EARN_WNE_P10'].apply(str) != 'PrivacySuppressed']\n",
    "\n",
    "# convert the COSTT4_A and MD_EARN_WNE_P10 to numeric variables\n",
    "df_return['COSTT4_A'] = pd.to_numeric(df_return['COSTT4_A'])\n",
    "df_return['MD_EARN_WNE_P10'] = pd.to_numeric(df_return['MD_EARN_WNE_P10'])\n",
    "\n",
    "# convert CONTROL variable to a discrete variable + change labels\n",
    "df_return['CONTROL'] = pd.Categorical(df_return['CONTROL'], df_return['CONTROL'].unique())\n",
    "df_return['CONTROL'] = df_return['CONTROL'].cat.rename_categories(['Public', 'Private nonprofit', 'Private for-profit'])"
   ]
  },
  {
   "cell_type": "code",
   "execution_count": null,
   "metadata": {},
   "outputs": [],
   "source": [
    "# there are 3711 colleges in the list now overall\n",
    "print(df_return.shape)\n",
    "\n",
    "# the distribution of the dataset\n",
    "df_return.groupby(by='CONTROL').agg(['count'])"
   ]
  },
  {
   "cell_type": "markdown",
   "metadata": {},
   "source": [
    "The table and the output above, tells us that the dataset contains information on 3711 institutions. With 1545 of them being public, 1209 private nonprofit and 957 private for-profit. Next we look at the numeric variables we picked to see if there is any difference. Below are some variable definitions as well as the distributions of the numeric variables."
   ]
  },
  {
   "cell_type": "code",
   "execution_count": null,
   "metadata": {},
   "outputs": [],
   "source": [
    "df_return[['COSTT4_A', 'MD_EARN_WNE_P10', 'AVGFACSAL', 'TUITIONFEE_IN', 'TUITIONFEE_OUT']].corr()"
   ]
  },
  {
   "cell_type": "code",
   "execution_count": null,
   "metadata": {},
   "outputs": [],
   "source": [
    "df_return[['COSTT4_A', 'MD_EARN_WNE_P10', 'AVGFACSAL', 'TUITIONFEE_IN', 'TUITIONFEE_OUT']].describe([.75, .90, .98])"
   ]
  },
  {
   "cell_type": "code",
   "execution_count": null,
   "metadata": {},
   "outputs": [],
   "source": [
    "df_return[(df_return['MD_EARN_WNE_P10'] > 63000) & \n",
    "          (df_return['AVGFACSAL'] > 12032)][['INSTNM', 'COSTT4_A','MD_EARN_WNE_P10', 'CONTROL', 'AVGFACSAL']].head(5)"
   ]
  },
  {
   "cell_type": "markdown",
   "metadata": {},
   "source": [
    "The list of colleges above are the outliers of our dataset. These are colleges which have the highest salaries among graduates after 10 years. In fact all of the colleges in the list are elite private schools. We chose to keep these outliers in the data set to see how these prestigious colleges compare to other cheaper private schools and public schools in other metrics. \n",
    "\n",
    "From the table of statistics above we can see a few obvious things like in-state tuition is usually cheaper than out of state. But the table also shows us something interesting, not only are the average faculty salaries exteremely low they are also weakly correlated with annual cost. Meaning that as the tuition goes up, the facualty do not necessarily get payed more. Lastly, we can see that on average schools in our dataset cost around \\$25,000 a year and graduates have an average salary of \\$35,000.\n",
    "\n",
    "We chose to further look at the median salaries of graduates and the cost of attendance by using density plots. Right away, we can see that there are two peaks for costs. One peak is around \\$15,000 and the other around \\$25,000. The median salaries for graduates have most of the mass around \\$35,000. Next, using a scatter plot with cost of attendance on the Y-axis and salary of graduates after 10 years on the X-axis. This plot will help us see if there is any patterns in the distributions of schools when we break them up into public, prive nonprofit and private forprofit groups."
   ]
  },
  {
   "cell_type": "code",
   "execution_count": null,
   "metadata": {},
   "outputs": [],
   "source": [
    "fig, ax = plt.subplots(1,1)\n",
    "for s in df_return[['COSTT4_A', 'MD_EARN_WNE_P10']].columns:\n",
    "    df_return[s].plot(kind='density')\n",
    "\n",
    "ax.set_title('Densities of annual cost and median salaries of graduates after 10 years')\n",
    "ax.set_xlabel('U.S. Dollars (USD)')\n",
    "ax.set_xlim((-100, 150000))\n",
    "plt.show()"
   ]
  },
  {
   "cell_type": "code",
   "execution_count": null,
   "metadata": {},
   "outputs": [],
   "source": [
    "# plot the scatter plot!\n",
    "fig, ax = plt.subplots()\n",
    "for c, df in df_return.groupby('CONTROL'):\n",
    "    ax.scatter(df['COSTT4_A'], df['MD_EARN_WNE_P10'], label=c, alpha=0.4, s=3)\n",
    "ax.legend()\n",
    "# make a few fixes to the titles and the legend\n",
    "ax.legend(fancybox=True, shadow=True, markerscale=5, borderpad=1)\n",
    "ax.set_title('Cost of Attendance vs. Median Earnings 10 Years After Graduation')\n",
    "ax.set_xlabel('Average Annual Total Cost of Attendance')\n",
    "ax.set_ylabel('Median Earnings of Students After 10 Years')\n",
    "plt.show()"
   ]
  },
  {
   "cell_type": "markdown",
   "metadata": {},
   "source": [
    "The plot above shows how the three types of schools compare based on the total cost of attendance as well as the median earnings of students 10 years after their graduation. There is a decent amount of grouping among the public schools indicating similar outcomes for most public schools. They tend to be on the left of other schools meaning that they are cheaper on average. In addition, we can see that for public schools as the average cost grows so does the median earnings of graduates demonstrating a good return on investment in higher tuition. On the other hand, the two types of privates schools tend to have much larger spread in annual costs that does not necessarily correspond to an appropriate increase in the median earnings. The row of graphs below plot each of the school types on a separate axis to better illustrate the point."
   ]
  },
  {
   "cell_type": "code",
   "execution_count": null,
   "metadata": {},
   "outputs": [],
   "source": [
    "# facet of scatter plots of cost of attendance vs median earnings of students after 10 years \n",
    "# facetted across CONTROL of institution\n",
    "\n",
    "# make the plot\n",
    "g = sns.lmplot(x='COSTT4_A', y='MD_EARN_WNE_P10', data=df_return, fit_reg=False,\n",
    "           hue='CONTROL', col='CONTROL', aspect=0.7, size=6)\n",
    "\n",
    "# outline the points, set and name the axes\n",
    "g = (g.map(plt.scatter, 'COSTT4_A', 'MD_EARN_WNE_P10', edgecolor=\"k\")\n",
    "     .set_axis_labels('Average Annual Total Cost of Attendance', 'Median Earnings After 10 Years')\n",
    "        .set(xlim=(0, 75000), ylim=(0, 155000), xticks=np.linspace(0, 70000, num=5),\n",
    "             yticks=np.linspace(0, 150000, num=5)))\n",
    "\n",
    "# shift the plots a little bit down to fit a title\n",
    "plt.subplots_adjust(top=0.85)\n",
    "\n",
    "# change the titles of the graphs \n",
    "g.fig.suptitle('Cost of Attendance vs. Median Earnings 10 Years After Graduation by School Type', fontsize=18)\n",
    "g.set_titles(row_template = '{row_name}', col_template = '{col_name}')\n",
    "plt.show()"
   ]
  },
  {
   "cell_type": "markdown",
   "metadata": {},
   "source": [
    "The three plots above once again show public schools as the cheapest and having the most consistent return on investment. The private for-profit schools seem to have the worst investment as we can see that there is almost no increase in median salaries associted with an increase in cost of tuition. For private nonprofit we can also see that as the cost increases there isn't a corresponding increase in salaries at first. Only at the very end of the distribution do we see a spike in median salaries. The table below further explores the schools that have the highest tuition costs but offer the highest salaries in the future. The list mostly consists of Ivy League schools like Yale and Harvard. These are the same outliers that were discussed above. "
   ]
  },
  {
   "cell_type": "code",
   "execution_count": null,
   "metadata": {},
   "outputs": [],
   "source": [
    "#df_return[df_return['CONTROL'] == 'Private nonprofit'].describe(percentiles = [.95])\n",
    "\n",
    "new_df = df_return[['MD_EARN_WNE_P10', 'COSTT4_A', 'INSTNM', 'CONTROL', 'PREDDEG']]\n",
    "mask = (new_df['MD_EARN_WNE_P10'] > 69000) & (new_df['COSTT4_A'] > 57000)\n",
    "top_df = new_df[(mask)].dropna()\n",
    "top_df.sort_values(by='MD_EARN_WNE_P10', ascending=False).head(10)"
   ]
  },
  {
   "cell_type": "markdown",
   "metadata": {},
   "source": [
    "#### In-state vs Out-of-state Tuition"
   ]
  },
  {
   "cell_type": "code",
   "execution_count": null,
   "metadata": {},
   "outputs": [],
   "source": [
    "# compare in-state vs out-of-state tuition and fees across the three different school types\n",
    "df_barplot = df_return.groupby('CONTROL', as_index=True)['TUITIONFEE_IN', 'TUITIONFEE_OUT'].mean()\n",
    "ax = df_barplot.plot.bar()\n",
    "ax.set_xlabel('Institution Type', fontsize=12)\n",
    "ax.set_title('In-state vs Out-of-state Tuition and Fees', fontsize=18)\n",
    "ax.set_yticklabels(np.linspace(0, 25000, num=6), fontsize=10)\n",
    "ax.set_xticklabels(['Public', 'Private Nonprofit', 'Private For-profit'], rotation=0, fontsize=10)\n",
    "legend = ax.legend(labels=['In-state', 'Out-of-state'], loc='upper right', fontsize=10, fancybox=True, shadow=True)\n",
    "plt.show()"
   ]
  },
  {
   "cell_type": "markdown",
   "metadata": {},
   "source": [
    "The barplot above shows us predictable but still interesting differences between private and public universities. Pubic schools are on average cheaper than both types of private schools even for out-of-state students. The plot also shows us that attending the local public school is the cheapest route to higher education. Lastly, we can see that while being cheaper than private non-profit schools, private for-profit schools are more expensive than public schools and both for profit schools do not differentiate between in-state or out-of-state students when it comes to tuition. "
   ]
  },
  {
   "cell_type": "markdown",
   "metadata": {},
   "source": [
    "#### Cost of Attendance vs. Faculty Salary"
   ]
  },
  {
   "cell_type": "code",
   "execution_count": null,
   "metadata": {},
   "outputs": [],
   "source": [
    "# average cost of attendance vs. average faculty salary\n",
    "fig, ax = plt.subplots()\n",
    "for c, df in df_return.groupby('CONTROL'):\n",
    "    ax.scatter(df['COSTT4_A'], df['AVGFACSAL'], label=c, alpha=0.4, s=3)\n",
    "ax.legend()\n",
    "ax.legend(fancybox=True, shadow=True, markerscale=5, borderpad=1)\n",
    "ax.set_title('Average Faculty Salary vs. Cost of Attendance')\n",
    "ax.set_xlabel('Average Annual Total Cost of Attendance')\n",
    "ax.set_ylabel('Average Faculty Salary')\n",
    "plt.show()"
   ]
  },
  {
   "cell_type": "code",
   "execution_count": null,
   "metadata": {},
   "outputs": [],
   "source": [
    "df_return.groupby(by='CONTROL').mean()"
   ]
  },
  {
   "cell_type": "markdown",
   "metadata": {},
   "source": [
    "Next, we can use a scatter plot to better see the differences in the distribution of average faculty salaries in the institutions. The y-axis is the average faculty salary, and on the x-axis is the annual total cost of attendance. Using the table of means, we can see that public school do offer on average better salaries. But the plot complicates that picture by showing us that while public schools consistently offer competative salaries, some of the most elite schools in the country have higher average salaries. It is important to note that public schools remain competative even at higher tuition prices. Lastly, there seems to be no difference in how much private nonprofit vs for-profit school pay their faculty."
   ]
  },
  {
   "cell_type": "markdown",
   "metadata": {},
   "source": [
    "## Analysis: College Accessibility"
   ]
  },
  {
   "cell_type": "markdown",
   "metadata": {},
   "source": [
    "### *Guiding Question: Is college accessible to students from low- and middle-income households?*"
   ]
  },
  {
   "cell_type": "markdown",
   "metadata": {},
   "source": [
    "Our answer to this question involved several different variables and the creation of two new ones. Our team looked at the question of accessibility through an economic lens, focusing on the relationship between college debt and ten year income after graduation. As a result, our guiding question can be also interpreted to mean: *Given the high cost of attendance, is college an affordable investment for low- and middle-income households?* Before we try to answer this question, we'll first have a discussion about the variables we used.\n",
    "\n",
    "**Definitions**  \n",
    "- *low-income households*: households whose family income is **\\$30,000 or less**.  \n",
    "- *middle-income households*: households whose family income is between **\\$30,001-\\$75,000**.\n",
    "\n",
    "\n",
    "**Variable Selection**  \n",
    "- *'STABBR'*: state abbreviations (for a later analysis comparing accessibility by state)\n",
    "- '*MD_EARN_WNE_P10'*: median income for all students receiving federal aid, per institution. This number was measured 10 years after graduation.\n",
    "- *'DEBT_MDN'*: median loan debt accumulated at the instutution by student borrowers of federal loans\n",
    "- *'MD_INC_DEBT_MDN'*: median loan debt accumulated at the institution for stduents from middle-income households\n",
    "- *'LO_INC_DEBT_MDN'*: median loan debt accumulated at the institution for stduents from low-income households\n",
    "- *'HIGHDEG'*: highest award level conferred at the institution\n",
    "- *'PREDDEG'*: type of award that the institution primarily confers. An institution like UCLA, for example, primarily confers Bachelor's Degrees, though it's also possible to also earn graduate degrees from this school. \n",
    "- *'CONTROL'*: indicates a public, private nonprofit, or public for-profit institution\n",
    "- *'HCM2'*: boolean indicating schools participating in a Heightened Cash Montoring (HCM) payment method\n",
    "- *'LO_INC_DEBT_RATIO'*: new variable defined as $\\frac{median \\space debt \\space owed \\space by \\space low-income \\space students}{median \\space debt \\space for\\space all\\space students}$ per institution\n",
    "- *'MD_INC_DEBT_RATIO'*: new variable defined as $\\frac{median \\space debt \\space owed \\space by \\space middle-income \\space students}{median \\space debt \\space for\\space all\\space students}$ per institution\n",
    "\n",
    "**Note**: The nature of our data means that we're *only examining those students who receive Title IV aid*. Therefore, any insight gleaned from this analysis is not meant to represent an institution's whole student body, as not every student qualifies or utilizes this type of aid."
   ]
  },
  {
   "cell_type": "markdown",
   "metadata": {},
   "source": [
    "#### Comparing Median Earnings and Low-Income Students' Median Debt"
   ]
  },
  {
   "cell_type": "code",
   "execution_count": null,
   "metadata": {},
   "outputs": [],
   "source": [
    "# import packages, load data\n",
    "import pandas as pd\n",
    "import numpy as np\n",
    "import matplotlib.pyplot as plt\n",
    "import seaborn as sns\n",
    "import plotly\n",
    "import plotly.plotly as py\n",
    "import plotly.graph_objs as go\n",
    "\n",
    "df = pd.read_csv('~/Documents/Stats 131/Most-Recent-Cohorts-All-Data-Elements.csv')\n",
    "\n",
    "# create subset containing variables of interest\n",
    "cols = [ \"STABBR\",\"MD_EARN_WNE_P10\", \"MD_INC_DEBT_MDN\", \"LO_INC_DEBT_MDN\", \"HIGHDEG\",\"DEBT_MDN\", \"CONTROL\",\"PREDDEG\", \"HCM2\"]\n",
    "\n",
    "# drop 'PrivacySuppressed' and NA values\n",
    "income = df[cols]\n",
    "income = income[~income.isin(['PrivacySuppressed'])]\n",
    "income = income.dropna()\n",
    "\n",
    "# only include schools participating in HCM payment method\n",
    "income = income.drop(income.loc[income[\"HCM2\"] == 1,:].index)\n",
    "\n",
    "# class change strings into numeric\n",
    "income[cols[1:]] = income[cols[1:]].astype(float)\n",
    "\n",
    "# rename variable values\n",
    "income[\"HIGHDEG\"] = income[\"HIGHDEG\"].replace({0:\"Non-degree-granting\",\n",
    "      1:\"Certificate\",\n",
    "      2:\"Associate's Degree\",\n",
    "      3:\"Bachelor's Degree\",\n",
    "      4:\"Graduate Degree\"})\n",
    "\n",
    "income[\"CONTROL\"] = income[\"CONTROL\"].replace({1:\"Public\",\n",
    "      2:\"Private nonprofit \",\n",
    "      3:\"Private for-profit\"})\n",
    "\n",
    "income[\"PREDDEG\"] = income[\"PREDDEG\"].replace({0:\"Not classified\",\n",
    "      1:\"Predominantly certificate-granting\",\n",
    "      2:\"Predominantly associate's degree-granting\",\n",
    "      3:\"Predominantly bachelor's degree-granting\",\n",
    "      4:\"Entirely graduate degree-granting\"})\n",
    "\n",
    "# exclude graduate schools and PREDDEG-unclassified schools\n",
    "income = income[~income['PREDDEG'].isin([\"Not classified\", \"Entirely graduate degree-granting\"])]\n",
    "\n",
    "# set plot preferences \n",
    "kwargs = dict( data = income, scatter_kws={\"alpha\":0.3}, ci = False, fit_reg = False)"
   ]
  },
  {
   "cell_type": "code",
   "execution_count": null,
   "metadata": {},
   "outputs": [],
   "source": [
    "g = sns.lmplot(x = \"LO_INC_DEBT_MDN\", y = \"MD_EARN_WNE_P10\", **kwargs, hue = \"CONTROL\", col = \"PREDDEG\", col_wrap = 3)\n",
    "g = (g.set_axis_labels(\"Median Debt for Low-Income Students\", \"Median Income after 10 Years\"),\n",
    "     g.set_titles(\"{col_name}\"))\n",
    "plt.show()"
   ]
  },
  {
   "cell_type": "markdown",
   "metadata": {},
   "source": [
    "**Commentary**  \n",
    "The plot above shows that schools that primarily grant Bachelor's Degrees are the most represented in the dataset (entirely graduate degree-granting schools and unclassified schools were scant and removed from analysis). This group also has the greatest variation in terms of the median debt for low-income students and the median earnings for low-income students. For schools that offer Associates Degrees and Certificates, students tend to earn less after 10 years, though students from these schools also tend to find themselves with less debt. Schools that offer Certificates have a lot more variation in terms of median income than schools that offer Associate's Degrees.   \n",
    "Color-coding by institution type also tells us that most private nonprofit schools are those that primarily award Bachelor's Degrees. There's a high concentration of private for-profit schools that predominantly offer Certificates. "
   ]
  },
  {
   "cell_type": "markdown",
   "metadata": {},
   "source": [
    "#### Comparing Median Earnings and Middle-Income Students' Median Debt"
   ]
  },
  {
   "cell_type": "code",
   "execution_count": null,
   "metadata": {},
   "outputs": [],
   "source": [
    "g = sns.lmplot(x = \"MD_INC_DEBT_MDN\", y = \"MD_EARN_WNE_P10\", **kwargs, hue = \"CONTROL\", col = \"PREDDEG\", col_wrap = 3)\n",
    "g = (g.set_axis_labels(\"Median Debt for Middle-Income Students\", \"Median Income after 10 Years\"),\n",
    "     g.set_titles(\"{col_name}\"))\n",
    "plt.show()"
   ]
  },
  {
   "cell_type": "markdown",
   "metadata": {},
   "source": [
    "**Commentary**  \n",
    "The trends surrounding median debt and median income are about the same for middle-income students. There is still a lot of variation in the x- and y-axes for institutions that primarily award Bachelor's Degrees, with median debt and median income looking, on average, higher than those reported by Associate's Degree-awarding and Certificate-degree awarding schools.  \n",
    "Anecdotal evidence seems to confirm the trends we've seen so far: Bachelor's programs, which typically take four years to complete, tend to cost more than programs like Associate's programs that are typically only two years. "
   ]
  },
  {
   "cell_type": "markdown",
   "metadata": {},
   "source": [
    "#### Examining Debt Ratios for Low-Income Students"
   ]
  },
  {
   "cell_type": "markdown",
   "metadata": {},
   "source": [
    "*Do low- and middle-income students find themselves more in debt than the average student receiving federal aid?*   \n",
    "\n",
    "We examined this question by comparing the median debt for these two groups against the median debt for all students. If the ratio = 1, that means that low- or middle-income students at a university often find themselves paying just as much in federal loans as students from other income classifications. Ratios lower than 1 mean that low- or middle-income students are less in debt than students from other income classifications.  "
   ]
  },
  {
   "cell_type": "code",
   "execution_count": null,
   "metadata": {
    "collapsed": true
   },
   "outputs": [],
   "source": [
    "# create new debt ratio variables for low- and middle-income students \n",
    "income[\"LO_INC_DEBT_RATIO\"] = income[\"LO_INC_DEBT_MDN\"]/income[\"DEBT_MDN\"]\n",
    "income[\"MD_INC_DEBT_RATIO\"] = income[\"MD_INC_DEBT_MDN\"]/income[\"DEBT_MDN\"]"
   ]
  },
  {
   "cell_type": "code",
   "execution_count": null,
   "metadata": {},
   "outputs": [],
   "source": [
    "income.loc[:,[\"LO_INC_DEBT_RATIO\",\"CONTROL\",\"PREDDEG\",\"MD_EARN_WNE_P10\"]].groupby([\"CONTROL\", \"PREDDEG\"]).mean()"
   ]
  },
  {
   "cell_type": "markdown",
   "metadata": {},
   "source": [
    "$debt \\space ratio = \\frac{median \\space debt \\space owed \\space by \\space low-income \\space students}{median \\space debt \\space for\\space all\\space students}$ \n",
    "\n",
    "- Ratios calculated per institution"
   ]
  },
  {
   "cell_type": "markdown",
   "metadata": {},
   "source": [
    "**Commentary**  \n",
    "The table above is a summary of the debt ratios per institution type and predominant award granted. The only institution type in which low-income students pay less in loans than other students are private for-profit institutions, indicated by debt ratios lower than 1. Any ratio lower than one is still fairly high, however, which means that low-income students are still roughly as much in debt as any other student taking out loans.   \n",
    "\n",
    "We see a greater variation in the last column, which is median income after 10 years (on average, aggregated by institution type and predominant degree awarded). Private for-profit institutions have the lowest median earnings at \\$25,181 while private nonprofit schools have the highest median at \\$43113.  \n",
    "\n",
    "Of private nonprofit schools and public schools, those private schools that are predominantly award Bachelor's Degrees (and, as we examined earlier, have graduates with the highest median income) have the *lowest* debt ratio for low-income students. That is, low-income students who attend these universities, on average, have less student debt than the rest of the aid-receiving student body while being part of a student body that earns the *higest* median income, on average.   \n",
    "\n",
    "Public schools who also predominantly award Bachelor's Degrees follow a similar trend of (relatively) lower debt with high median income after ten years."
   ]
  },
  {
   "cell_type": "code",
   "execution_count": null,
   "metadata": {},
   "outputs": [],
   "source": [
    "g = sns.lmplot(x = \"LO_INC_DEBT_RATIO\", y = \"MD_EARN_WNE_P10\", **kwargs, hue = \"CONTROL\", col = \"PREDDEG\", col_wrap = 3)\n",
    "g = (g.set_axis_labels(\"Low-Income Median Debt vs Overall Median Debt Ratio\",\"Median Income after 10 Years\"),\n",
    "     g.set_titles(\"{col_name}\"))\n",
    "plt.show()"
   ]
  },
  {
   "cell_type": "markdown",
   "metadata": {},
   "source": [
    "**Commentary**  \n",
    "The plots above are a graphical representation of the table examined earlier, though these scatterplots shed more light on the variation within these groups. Like the scatterplots from before, a lot of variation exists within the ratio and the median income for schools that predominantly award Bachelor's Degrees. Within this group, the most variation exists for private nonprofit schools. There are some on the far left of the graph that show how their low-income students owe way less in student loans than the rest of the student body. Those private nonprofit schools on the far right are the exact opposite -- their low-income students find themsevles more in debt after graduation than the average student who take out loans.   \n",
    "\n",
    "For schools that award Associate's Degrees, there's a high concentration of public schools with low-income students who find themsevles more in debt than the average student who takes out loans. "
   ]
  },
  {
   "cell_type": "code",
   "execution_count": null,
   "metadata": {},
   "outputs": [],
   "source": [
    "g = sns.lmplot(data = income[income[\"PREDDEG\"] == \"Predominantly bachelor's degree-granting\"], \n",
    "               x = \"LO_INC_DEBT_RATIO\", y = \"MD_EARN_WNE_P10\",\n",
    "               hue = \"CONTROL\", col = \"CONTROL\", col_wrap = 3, ci = False, fit_reg = False)\n",
    "g = (g.set_axis_labels(\"Low-Income Median Debt vs Overall Median Debt Ratio\",\"Median Income after 10 Years\"),\n",
    "     g.set_titles(\"{col_name}\"))\n",
    "plt.show()"
   ]
  },
  {
   "cell_type": "markdown",
   "metadata": {},
   "source": [
    "**Commentary**  \n",
    "The plots above examine only those schoools that predominantly award Bachelor's Degrees. Here, we see the same variation in private nonprofit schools that we saw before. There's less variation in public schools in both the x- and y-axes (exluding outliers); the ratio hovers around 0.99, like we saw above, while earning an (average) median salary comparable to private nonprofit schools. There are fewer schools in the highest median income brackets for public schools than there are for private nonprofit schools. Private for-profit schools have some variation in the x-axis, though there are too few observations to draw any meaningful conclusions."
   ]
  },
  {
   "cell_type": "markdown",
   "metadata": {},
   "source": [
    "#### Examining Debt Ratios for Middle-Income Students"
   ]
  },
  {
   "cell_type": "code",
   "execution_count": null,
   "metadata": {},
   "outputs": [],
   "source": [
    "income.loc[:,[\"MD_INC_DEBT_RATIO\",\"CONTROL\",\"PREDDEG\", \"MD_EARN_WNE_P10\"]].groupby([\"CONTROL\", \"PREDDEG\"]).mean()"
   ]
  },
  {
   "cell_type": "markdown",
   "metadata": {},
   "source": [
    "**Commentary**  \n",
    "Conducting the same analyses as we did earlier, but this time for students from middle-income brackets, we see that the trends are nearly reversed. Schools that predominantly award Bachelor's Degrees all have students from middle-income brackets in more debt than the average student who takes out loans. The only schools in which middle-income students tend to owe less in debt than the average student are public instutitions that award Associates Degrees or Certificates.  "
   ]
  },
  {
   "cell_type": "code",
   "execution_count": null,
   "metadata": {},
   "outputs": [],
   "source": [
    "g = sns.lmplot(x = \"MD_INC_DEBT_RATIO\", y = \"MD_EARN_WNE_P10\", **kwargs, hue = \"CONTROL\", col = \"PREDDEG\", col_wrap = 3)\n",
    "axes = g.axes\n",
    "g = (g.set_axis_labels(\"Middle-Income Median Debt vs Overall Median Debt Ratio\",\"Median Income after 10 Years\"),\n",
    "     g.set_titles(\"{col_name}\"))\n",
    "axes[0,].set_xlim(0.4,1.8)\n",
    "axes[1,].set_xlim(0.4,1.8)\n",
    "axes[2,].set_xlim(0.4,1.8)\n",
    "plt.show()"
   ]
  },
  {
   "cell_type": "markdown",
   "metadata": {},
   "source": [
    "**Commentary**  \n",
    "Though the values reported in the table suggest a difference in financial aid for low- and middle-income students, the scatterplots above (reporting on middle-income students) are very similar to the plots from before. We still see variation in the x- and y-axes for predominantly Bachelor's Degree-awarding schools, though the ratio is shifted slightly to the right.   \n",
    "A more dramatic difference is found in the plots representing predominantly Associate's Degree-awarding schools. The concentration of public and private for-profit schools is flipped between income brackets. That is, public schools have low-income students paying a greater share of school debt, while private for-profit schools have middle-income students paying a greater share of school debt. The reverse of these scenarios also generally holds true. \n",
    "\n",
    "**Note**: The axes were modified for this plot, along with the one below, to account for a public school outlier that shifted the x-axis an unreasonable amount to the right."
   ]
  },
  {
   "cell_type": "code",
   "execution_count": null,
   "metadata": {},
   "outputs": [],
   "source": [
    "g = sns.lmplot(data = income[income[\"PREDDEG\"] == \"Predominantly bachelor's degree-granting\"], \n",
    "               x = \"MD_INC_DEBT_RATIO\", y = \"MD_EARN_WNE_P10\",\n",
    "               hue = \"CONTROL\", col = \"CONTROL\", col_wrap = 3, ci = False, fit_reg = False)\n",
    "axes = g.axes\n",
    "g = (g.set_axis_labels(\"Middle-Income Median Debt vs Overall Median Debt Ratio\",\"Median Income after 10 Years\"),\n",
    "     g.set_titles(\"{col_name}\"))\n",
    "axes[0,].set_xlim(0.4,1.8)\n",
    "axes[1,].set_xlim(0.4,1.8)\n",
    "axes[2,].set_xlim(0.4,1.8)\n",
    "plt.show()"
   ]
  },
  {
   "cell_type": "markdown",
   "metadata": {},
   "source": [
    "**Commentary**  \n",
    "Taking a closer look at schools that primarily award Bachelor's Degrees shows us the same patterns for middle-income students that we saw with low-income students. The greatest variation in both the x- and y-directions is within private nonprofit schools, while public schools remain fairly consistent in median income after ten years and even more so in regarding the debt ratio. Data on private for-profit schools remains sparse.  "
   ]
  },
  {
   "cell_type": "markdown",
   "metadata": {},
   "source": [
    "## Analysis: Geographic Location"
   ]
  },
  {
   "cell_type": "markdown",
   "metadata": {},
   "source": [
    "### *Guiding Question: How do college costs compare across the country?*"
   ]
  },
  {
   "cell_type": "markdown",
   "metadata": {},
   "source": [
    "To answer this question, we examined the variables *NPT4_PUB* and *NPT4_PRIV*, two integer variables that describe the average net price of attending public and private univeristies, respectively. This variable does not differentiate between for-profit and nonprofit private schools.\n",
    "\n",
    "**What is average net price?**  \n",
    "Average net price, as defined by in the College Scorecard dataset, is the full cost of attendance (including tuition and fees; books and supplies; living expenses) minus aid (federal aid, state aid, institutional grant/scholarship) for *full-time, first-time undergraduate Title IV-receiving students.*   \n",
    "That means that the statistics represented in this column apply only to a) undergraduates who b) are full-time students and c) receiving federal aid.  \n",
    "\n",
    "Part of the motivation for this question came from curiosity about whether some states are more expensive to live in than others. We were particularly interested in the *NPT4_PUB* and *NPT4_PRIV* variables because they contain some of the exact costs that we hypothesized were different among states: living expenses.  \n",
    "\n",
    "We decided to aggregate the average cost of public schools (with another map for private schools) per state. Because we used the average, we thought it would be important to first point out the distribution of schools per state, as some states have way more schools than others (which therefore affects the weight of each school on the mean)."
   ]
  },
  {
   "cell_type": "markdown",
   "metadata": {},
   "source": [
    "#### Number of Schools per State"
   ]
  },
  {
   "cell_type": "code",
   "execution_count": null,
   "metadata": {},
   "outputs": [],
   "source": [
    "# load data\n",
    "df = pd.read_csv('~/Documents/Stats 131/Most-Recent-Cohorts-All-Data-Elements.csv', low_memory=False)\n",
    "\n",
    "# subset data by variables of interest\n",
    "cols=['STABBR', 'PREDDEG', 'CONTROL']\n",
    "df_map = df_b[cols]\n",
    "\n",
    "# count number of universities per state\n",
    "d = {'state' : df_map['STABBR'].value_counts().index.tolist(), 'num_colleges' : df_map['STABBR'].value_counts().tolist()}\n",
    "df_counts = pd.DataFrame(data = d)\n",
    "\n",
    "# set map parameters\n",
    "data = [ dict(\n",
    "        type='choropleth',\n",
    "        colorscale = 'Reds',\n",
    "        autocolorscale = True,\n",
    "        locations = df_counts['state'],\n",
    "        z = df_counts['num_colleges'].astype(float),\n",
    "        locationmode = 'USA-states',\n",
    "        marker = dict(\n",
    "            line = dict (\n",
    "                color = 'rgb(255,255,255)',\n",
    "                width = 2\n",
    "            ) ),\n",
    "        colorbar = dict(\n",
    "            title = \"Number of Schools\")\n",
    "        ) ]\n",
    "\n",
    "\n",
    "layout = dict(\n",
    "    title = 'College Locations in the United States',\n",
    "        geo = dict(\n",
    "            scope='usa',\n",
    "            projection=dict( type='albers usa' ),\n",
    "            showlakes = True,\n",
    "            lakecolor = 'rgb(51, 51, 153)'),\n",
    "             )\n",
    "    \n",
    "fig = dict( data=data, layout=layout )\n",
    "\n",
    "py.image.ishow(fig)"
   ]
  },
  {
   "cell_type": "markdown",
   "metadata": {},
   "source": [
    "**Commentary**  \n",
    "The map above shows us that the distribution of colleges (both public and private) are not the same across all states. California has the highest number of colleges, followed by Texas and New York. There's a noticeable disparity between college counts in the Western half of the US. Though California has the highest number of universities, there are other states in the West like Idaho, Montana and Wyoming that have fewer than five universities represented in the dataset. These states have been excluded in the following analyses in the interest of school weights in the average."
   ]
  },
  {
   "cell_type": "markdown",
   "metadata": {},
   "source": [
    "#### Average Net Price - Public Institutions"
   ]
  },
  {
   "cell_type": "code",
   "execution_count": null,
   "metadata": {},
   "outputs": [],
   "source": [
    "cols=['STABBR', 'NPT4_PUB', 'PREDDEG', 'CONTROL']\n",
    "df_map = df_b[cols]\n",
    "\n",
    "# grab all state names\n",
    "states = df_map['STABBR'].value_counts().index.tolist()\n",
    "\n",
    "# grab the (1) public, (2) predominantly bachelors awarding inst.\n",
    "df_map = df_map[(df_map['CONTROL'] == 1) & (df_map['PREDDEG'] == 3)].dropna()\n",
    "\n",
    "# identify those states with at least 5 public schools \n",
    "gt_five = sum(df_map['STABBR'].value_counts() > 5)\n",
    "gt_five_states = df_map['STABBR'].value_counts().index.tolist()[:gt_five]\n",
    "\n",
    "# find the average out of pocket tuition for each state \n",
    "df_map_summary = df_map.groupby(['STABBR'], as_index=False)['NPT4_PUB'].mean()\n",
    "\n",
    "# disqualify schools with less than 5 public schools\n",
    "df_map_summary['NPT4_PUB'][~df_map_summary['STABBR'].isin(gt_five_states)] = 0\n",
    "\n",
    "# (optional) check most expensive/least expensive states \n",
    "#df_map_summary.sort_values(by='NPT4_PUB', ascending=False).head()\n",
    "#df_map_summary.sort_values(by='NPT4_PUB', ascending=False).tail()"
   ]
  },
  {
   "cell_type": "code",
   "execution_count": null,
   "metadata": {},
   "outputs": [],
   "source": [
    "# set map parameters\n",
    "data = [ dict(\n",
    "        type='choropleth',\n",
    "        colorscale = 'Reds',\n",
    "        autocolorscale = False,\n",
    "        locations = df_map_summary['STABBR'],\n",
    "        z = df_map_summary['NPT4_PUB'].astype(float),\n",
    "        locationmode = 'USA-states',\n",
    "        marker = dict(\n",
    "            line = dict (\n",
    "                color = 'rgb(255,255,255)',\n",
    "                width = 2\n",
    "            ) ),\n",
    "        colorbar = dict(\n",
    "            title = \"Annual Price (USD)\")\n",
    "        ) ]\n",
    "\n",
    "\n",
    "layout = dict(\n",
    "    title = 'Average Out-of-Pocket Tuition for Public Institutions',\n",
    "        geo = dict(\n",
    "            scope='usa',\n",
    "            projection=dict( type='albers usa' ),\n",
    "            showlakes = True,\n",
    "            lakecolor = 'rgb(51, 51, 153)'),\n",
    "             )\n",
    "    \n",
    "fig = dict( data=data, layout=layout )\n",
    "\n",
    "py.image.ishow(fig)"
   ]
  },
  {
   "cell_type": "markdown",
   "metadata": {},
   "source": [
    "**Data Wrangling Notes**  \n",
    "The dataset presented in the plot above has the following attributes: \n",
    "- includes only public schools \n",
    "- includes states with at least five public schools recorded in the dataset \n",
    "- includes only institutions that predominantly award Bachelor's Degrees\n",
    "\n",
    "\n",
    "**Commentary**  \n",
    "The plot above shows that the cost of going to a public university is still, on average, thousands of dollars despite Title IV aid. We called this surplus cost the **out-of-pocket tuition** because this represents the cost that families have to pay on their own, without federal, state, or institutional aid. We examined this variable because out-of-pocket cost is an important factor of college accessibility.  \n",
    "We can see that the out-of-pocket tuition for public institutions hovers around the 10-20k (USD) range. The states with the highest prices are Pennsylvania, New Jersey and Virginia.  West Virgina, Louisiana and New Mexico have the lowest prices.  "
   ]
  },
  {
   "cell_type": "markdown",
   "metadata": {},
   "source": [
    "#### Average Net Price - Private Institutions"
   ]
  },
  {
   "cell_type": "code",
   "execution_count": null,
   "metadata": {},
   "outputs": [],
   "source": [
    "cols=['STABBR', 'NPT4_PRIV', 'PREDDEG', 'CONTROL']\n",
    "df_map = df_b[cols]\n",
    "\n",
    "# grab all state names\n",
    "states = df_map['STABBR'].value_counts().index.tolist()\n",
    "\n",
    "# grab the (1) private, (2) predominantly bachelors awarding inst.\n",
    "df_map = df_map[(df_map['CONTROL'] != 1) & (df_map['PREDDEG'] == 3)].dropna()\n",
    "\n",
    "# identify those states with at least 5 private schools \n",
    "gt_five = sum(df_map['STABBR'].value_counts() > 5)\n",
    "gt_five_states = df_map['STABBR'].value_counts().index.tolist()[:gt_five]\n",
    "\n",
    "# find the average out of pocket tuition for each state \n",
    "df_map_summary = df_map.groupby(['STABBR'], as_index=False)['NPT4_PRIV'].mean()\n",
    "\n",
    "# disqualify schools with less than 5 private schools\n",
    "df_map_summary['NPT4_PRIV'][~df_map_summary['STABBR'].isin(gt_five_states)] = 0\n",
    "\n",
    "# add another value for Wyoming (originally a missing value)\n",
    "df_map_summary.loc[-1] = ['WY', 0]\n",
    "\n",
    "# (optional) check most expensive/least expensive states \n",
    "#df_map_summary.sort_values(by='NPT4_PRIV', ascending=False).head()\n",
    "#df_map_summary.sort_values(by='NPT4_PRIV', ascending=False).tail()"
   ]
  },
  {
   "cell_type": "code",
   "execution_count": null,
   "metadata": {},
   "outputs": [],
   "source": [
    "# set map parameters\n",
    "data = [ dict(\n",
    "        type='choropleth',\n",
    "        colorscale = 'Reds',\n",
    "        autocolorscale = False,\n",
    "        locations = df_map_summary['STABBR'],\n",
    "        z = df_map_summary['NPT4_PRIV'].astype(float),\n",
    "        locationmode = 'USA-states',\n",
    "        marker = dict(\n",
    "            line = dict (\n",
    "                color = 'rgb(255,255,255)',\n",
    "                width = 2\n",
    "            ) ),\n",
    "        colorbar = dict(\n",
    "            title = \"Annual Price (USD)\")\n",
    "        ) ]\n",
    "\n",
    "\n",
    "layout = dict(\n",
    "    title = 'Average Out-of-Pocket Tuition for Private Institutions',\n",
    "        geo = dict(\n",
    "            scope='usa',\n",
    "            projection=dict( type='albers usa' ),\n",
    "            showlakes = True,\n",
    "            lakecolor = 'rgb(51, 51, 153)'),\n",
    "             )\n",
    "    \n",
    "fig = dict( data=data, layout=layout )\n",
    "\n",
    "py.image.ishow(fig)"
   ]
  },
  {
   "cell_type": "markdown",
   "metadata": {},
   "source": [
    "**Data Wrangling Notes**  \n",
    "The dataset used in the plot above has the following attributes: \n",
    "- includes only private schools\n",
    "- includes states with at least five public schools recorded in the dataset\n",
    "- includes only institutions that predominantly award Bachelor's Degrees\n",
    "    - includes an added 0 value for Wyoming, which did not have a private school that awarded primarily Bachelor's Degrees and showed up as NULL in the subset\n",
    "    \n",
    "**Commentary**  \n",
    "The map above follows a similar trend to the map of public institutions that we saw before, though to a much more dramatic effect. Out-of-pocket cost remains above 10k (USD) annually. The price scale increased roughly two-fold to account for even higher out-of-pocket costs per state. At the top of the list for highest out-of-pocket costs are Rhode Island, Connecticut, and Massachusetts. California saw a dramatic increase in average out-of-pocket cost when accounting for private schools instead of public. West Virginia remains along the end of the price spectrum, along with Arkansas and Mississippi."
   ]
  },
  {
   "cell_type": "markdown",
   "metadata": {},
   "source": [
    "#### Comparing Debt Ratios by State - Low Income"
   ]
  },
  {
   "cell_type": "markdown",
   "metadata": {},
   "source": [
    "Continuing with our accessibility analysis from earlier before, we took a look at how the share of debt by low-income students changes across states. "
   ]
  },
  {
   "cell_type": "code",
   "execution_count": null,
   "metadata": {},
   "outputs": [],
   "source": [
    "# load in location data\n",
    "location = pd.read_csv('~/Documents/Stats 131/State.csv')\n",
    "\n",
    "# group data by states and calculate mean by state\n",
    "LO_MEAN = income.loc[:,[\"LO_INC_DEBT_RATIO\",\"STABBR\", \"MD_EARN_WNE_P10\"]].groupby(\"STABBR\").mean().reset_index()\n",
    "\n",
    "size = (LO_MEAN['MD_EARN_WNE_P10']- np.min(LO_MEAN['MD_EARN_WNE_P10']))/(np.max(LO_MEAN['MD_EARN_WNE_P10']) - np.min(LO_MEAN[\"MD_EARN_WNE_P10\"]))*100\n",
    "size = size.astype(int)\n",
    "\n",
    "# set map parameters\n",
    "scale = [[0, 'rgb(255,245,240)'], [0.2, 'rgb(254,224,210)'], [0.4, 'rgb(252,187,161)'], [0.5, 'rgb(252,146,114)'], [0.6, 'rgb(251,106,74)'], [0.7, 'rgb(239,59,44)'], [0.8, 'rgb(203,24,29)'], [0.9, 'rgb(165,15,21)'], [1, 'rgb(103,0,13)']]\n",
    "\n",
    "map = [ go.Choropleth(\n",
    "        type='choropleth',\n",
    "        autocolorscale = False,\n",
    "        locations = LO_MEAN['STABBR'],\n",
    "        z = LO_MEAN[\"LO_INC_DEBT_RATIO\"].astype(float),\n",
    "        locationmode = 'USA-states',\n",
    "        text = np.array([\"Median Earning of studetns after 10 years: \" + str(x) for x in LO_MEAN['MD_EARN_WNE_P10']]),\n",
    "        marker = dict(\n",
    "            line = dict (\n",
    "                color = 'rgb(255,255,255)',\n",
    "                width = 2\n",
    "            ) ),\n",
    "        colorbar = dict(\n",
    "            title = \"Ratio\",\n",
    "            x = 0.9,\n",
    "            thickness = 10,\n",
    "            len = 0.2)\n",
    "        ) ,\n",
    "        go.Scattergeo(\n",
    "                lon = location[\"Longitude\"],\n",
    "                lat = location[\"Latitude\"],\n",
    "                mode = \"markers+text\",\n",
    "                text = np.array(LO_MEAN['MD_EARN_WNE_P10']).round(),\n",
    "                marker = dict(\n",
    "                        size = size,\n",
    "                        line = dict(width = 0),\n",
    "                        autocolorscale = False,\n",
    "                        colorscale = scale,\n",
    "                        color = LO_MEAN[\"MD_EARN_WNE_P10\"],\n",
    "                        cmin = LO_MEAN[\"MD_EARN_WNE_P10\"].min(),\n",
    "                        cmax = LO_MEAN[\"MD_EARN_WNE_P10\"].max(),\n",
    "                        colorbar = dict(\n",
    "                            title = \"Median Earning\",\n",
    "                            x = 0.95,\n",
    "                            thickness = 10,\n",
    "                            len = 0.2))\n",
    "                )\n",
    "        ]\n",
    "\n",
    "layout = dict(\n",
    "        title = 'Low Income Median Debt vs Overall Debt Ration by US Territory',\n",
    "        autosize=False,\n",
    "        width=2000,\n",
    "        height=2000,\n",
    "        geo = dict(\n",
    "            scope='usa',\n",
    "            projection=dict( type='albers usa' ),\n",
    "            showlakes = True,\n",
    "            lakecolor = 'rgb(255, 255, 255)'),\n",
    "             )\n",
    "\n",
    "fig = go.Figure(data = map, layout=layout)\n",
    "\n",
    "py.image.ishow(fig)"
   ]
  },
  {
   "cell_type": "markdown",
   "metadata": {},
   "source": [
    "**Commentary**  \n",
    "Here, we're presenting the information about debt ratio vs. median income after ten years in an analysis across states. Another difference is that we're aggregating across institution types, so the schools represented are public, private nonprofit, and private for-profit collectively.  \n",
    "Some general trends from the plot show that the East Coast is a great place for low-income students because of a generally low debt ratio (represented by states with blue tones) and a high (average) median income after ten years (represented by circle color and size).  \n",
    "States in the West see low-income students paying as much, if not more, than other students who take out loans. "
   ]
  },
  {
   "cell_type": "markdown",
   "metadata": {},
   "source": [
    "#### Comparing Debt Ratios by State - Middle Income"
   ]
  },
  {
   "cell_type": "code",
   "execution_count": null,
   "metadata": {},
   "outputs": [],
   "source": [
    "# group data by states and calculate mean by state\n",
    "MD_MEAN = income.loc[:,[\"MD_INC_DEBT_RATIO\",\"STABBR\", \"MD_EARN_WNE_P10\"]].groupby(\"STABBR\").mean().reset_index()\n",
    "\n",
    "size = (MD_MEAN['MD_EARN_WNE_P10']- np.min(MD_MEAN['MD_EARN_WNE_P10']))/(np.max(MD_MEAN['MD_EARN_WNE_P10']) - np.min(MD_MEAN[\"MD_EARN_WNE_P10\"]))*100\n",
    "size = size.astype(int)\n",
    "\n",
    "# set map parameters\n",
    "scale = [[0, 'rgb(255,245,240)'], [0.2, 'rgb(254,224,210)'], [0.4, 'rgb(252,187,161)'], [0.5, 'rgb(252,146,114)'], [0.6, 'rgb(251,106,74)'], [0.7, 'rgb(239,59,44)'], [0.8, 'rgb(203,24,29)'], [0.9, 'rgb(165,15,21)'], [1, 'rgb(103,0,13)']]\n",
    "\n",
    "map = [ go.Choropleth(\n",
    "        type='choropleth',\n",
    "        autocolorscale = False,\n",
    "        locations = MD_MEAN['STABBR'],\n",
    "        z = MD_MEAN[\"MD_INC_DEBT_RATIO\"].astype(float),\n",
    "        locationmode = 'USA-states',\n",
    "        text = np.array([\"Median Earning of studetns after 10 years: \" + str(x) for x in MD_MEAN['MD_EARN_WNE_P10']]),\n",
    "        marker = dict(\n",
    "            line = dict (\n",
    "                color = 'rgb(255,255,255)',\n",
    "                width = 2\n",
    "            ) ),\n",
    "        colorbar = dict(\n",
    "            title = \"Ratio\",\n",
    "            x = 0.9,\n",
    "            thickness = 10,\n",
    "            len = 0.2)\n",
    "        ) ,\n",
    "        go.Scattergeo(\n",
    "                lon = location[\"Longitude\"],\n",
    "                lat = location[\"Latitude\"],\n",
    "                mode = \"markers+text\",\n",
    "                text = np.array(MD_MEAN['MD_EARN_WNE_P10']).round(),\n",
    "                marker = dict(\n",
    "                        size = size,\n",
    "                        line = dict(width = 0),\n",
    "                        autocolorscale = False,\n",
    "                        colorscale = scale,\n",
    "                        color = MD_MEAN[\"MD_EARN_WNE_P10\"],\n",
    "                        cmin = MD_MEAN[\"MD_EARN_WNE_P10\"].min(),\n",
    "                        cmax = MD_MEAN[\"MD_EARN_WNE_P10\"].max(),\n",
    "                        colorbar = dict(\n",
    "                            title = \"Median Earning\",\n",
    "                            x = 0.95,\n",
    "                            thickness = 10,\n",
    "                            len = 0.2))\n",
    "                )\n",
    "        ]\n",
    "\n",
    "layout = dict(\n",
    "        title = 'Median Income Median Debt vs Overall Debt Ration by US Territory',\n",
    "        autosize=False,\n",
    "        width=2000,\n",
    "        height=2000,\n",
    "        geo = dict(\n",
    "            scope='usa',\n",
    "            projection=dict( type='albers usa' ),\n",
    "            showlakes = True,\n",
    "            lakecolor = 'rgb(255, 255, 255)'),\n",
    "             )\n",
    "fig = go.Figure(data = map, layout=layout)\n",
    "\n",
    "py.image.ishow(fig)"
   ]
  },
  {
   "cell_type": "markdown",
   "metadata": {},
   "source": [
    "**Commentary**  \n",
    "The reveral of trends between low- and middle-income students is once again present, even in a state-by-state analysis. Many states in the East that once had low debt ratios now have ratios approximately or higher than one. This means that middle-income students find themselves in more debt than the average student paying loans. States on the West coast remain relatively consistent, with Washington, Oregon, and California with a lower debt-ratio than before."
   ]
  },
  {
   "cell_type": "markdown",
   "metadata": {},
   "source": [
    "# Data Modeling"
   ]
  },
  {
   "cell_type": "code",
   "execution_count": 2,
   "metadata": {
    "collapsed": true
   },
   "outputs": [
    {
     "name": "stderr",
     "output_type": "stream",
     "text": [
      "/home/ignat/anaconda3/envs/eq_env/lib/python3.6/site-packages/sklearn/cross_validation.py:41: DeprecationWarning:\n",
      "\n",
      "This module was deprecated in version 0.18 in favor of the model_selection module into which all the refactored classes and functions are moved. Also note that the interface of the new CV iterators are different from that of this module. This module will be removed in 0.20.\n",
      "\n"
     ]
    },
    {
     "ename": "FileNotFoundError",
     "evalue": "File b'Most-Recent-Cohorts-All-Data-Elements.csv' does not exist",
     "output_type": "error",
     "traceback": [
      "\u001b[0;31m---------------------------------------------------------------------------\u001b[0m",
      "\u001b[0;31mFileNotFoundError\u001b[0m                         Traceback (most recent call last)",
      "\u001b[0;32m<ipython-input-2-ea6debfc0662>\u001b[0m in \u001b[0;36m<module>\u001b[0;34m()\u001b[0m\n\u001b[1;32m     79\u001b[0m \u001b[0;34m\u001b[0m\u001b[0m\n\u001b[1;32m     80\u001b[0m \u001b[0;31m# read in the data sets\u001b[0m\u001b[0;34m\u001b[0m\u001b[0;34m\u001b[0m\u001b[0m\n\u001b[0;32m---> 81\u001b[0;31m \u001b[0mdf\u001b[0m \u001b[0;34m=\u001b[0m \u001b[0mpd\u001b[0m\u001b[0;34m.\u001b[0m\u001b[0mread_csv\u001b[0m\u001b[0;34m(\u001b[0m\u001b[0;34m'Most-Recent-Cohorts-All-Data-Elements.csv'\u001b[0m\u001b[0;34m)\u001b[0m\u001b[0;34m\u001b[0m\u001b[0m\n\u001b[0m\u001b[1;32m     82\u001b[0m \u001b[0mlocation\u001b[0m \u001b[0;34m=\u001b[0m \u001b[0mpd\u001b[0m\u001b[0;34m.\u001b[0m\u001b[0mread_csv\u001b[0m\u001b[0;34m(\u001b[0m\u001b[0;34m\"State.csv\"\u001b[0m\u001b[0;34m)\u001b[0m\u001b[0;34m\u001b[0m\u001b[0m\n",
      "\u001b[0;32m~/anaconda3/envs/eq_env/lib/python3.6/site-packages/pandas/io/parsers.py\u001b[0m in \u001b[0;36mparser_f\u001b[0;34m(filepath_or_buffer, sep, delimiter, header, names, index_col, usecols, squeeze, prefix, mangle_dupe_cols, dtype, engine, converters, true_values, false_values, skipinitialspace, skiprows, nrows, na_values, keep_default_na, na_filter, verbose, skip_blank_lines, parse_dates, infer_datetime_format, keep_date_col, date_parser, dayfirst, iterator, chunksize, compression, thousands, decimal, lineterminator, quotechar, quoting, escapechar, comment, encoding, dialect, tupleize_cols, error_bad_lines, warn_bad_lines, skipfooter, doublequote, delim_whitespace, low_memory, memory_map, float_precision)\u001b[0m\n\u001b[1;32m    676\u001b[0m                     skip_blank_lines=skip_blank_lines)\n\u001b[1;32m    677\u001b[0m \u001b[0;34m\u001b[0m\u001b[0m\n\u001b[0;32m--> 678\u001b[0;31m         \u001b[0;32mreturn\u001b[0m \u001b[0m_read\u001b[0m\u001b[0;34m(\u001b[0m\u001b[0mfilepath_or_buffer\u001b[0m\u001b[0;34m,\u001b[0m \u001b[0mkwds\u001b[0m\u001b[0;34m)\u001b[0m\u001b[0;34m\u001b[0m\u001b[0m\n\u001b[0m\u001b[1;32m    679\u001b[0m \u001b[0;34m\u001b[0m\u001b[0m\n\u001b[1;32m    680\u001b[0m     \u001b[0mparser_f\u001b[0m\u001b[0;34m.\u001b[0m\u001b[0m__name__\u001b[0m \u001b[0;34m=\u001b[0m \u001b[0mname\u001b[0m\u001b[0;34m\u001b[0m\u001b[0m\n",
      "\u001b[0;32m~/anaconda3/envs/eq_env/lib/python3.6/site-packages/pandas/io/parsers.py\u001b[0m in \u001b[0;36m_read\u001b[0;34m(filepath_or_buffer, kwds)\u001b[0m\n\u001b[1;32m    438\u001b[0m \u001b[0;34m\u001b[0m\u001b[0m\n\u001b[1;32m    439\u001b[0m     \u001b[0;31m# Create the parser.\u001b[0m\u001b[0;34m\u001b[0m\u001b[0;34m\u001b[0m\u001b[0m\n\u001b[0;32m--> 440\u001b[0;31m     \u001b[0mparser\u001b[0m \u001b[0;34m=\u001b[0m \u001b[0mTextFileReader\u001b[0m\u001b[0;34m(\u001b[0m\u001b[0mfilepath_or_buffer\u001b[0m\u001b[0;34m,\u001b[0m \u001b[0;34m**\u001b[0m\u001b[0mkwds\u001b[0m\u001b[0;34m)\u001b[0m\u001b[0;34m\u001b[0m\u001b[0m\n\u001b[0m\u001b[1;32m    441\u001b[0m \u001b[0;34m\u001b[0m\u001b[0m\n\u001b[1;32m    442\u001b[0m     \u001b[0;32mif\u001b[0m \u001b[0mchunksize\u001b[0m \u001b[0;32mor\u001b[0m \u001b[0miterator\u001b[0m\u001b[0;34m:\u001b[0m\u001b[0;34m\u001b[0m\u001b[0m\n",
      "\u001b[0;32m~/anaconda3/envs/eq_env/lib/python3.6/site-packages/pandas/io/parsers.py\u001b[0m in \u001b[0;36m__init__\u001b[0;34m(self, f, engine, **kwds)\u001b[0m\n\u001b[1;32m    785\u001b[0m             \u001b[0mself\u001b[0m\u001b[0;34m.\u001b[0m\u001b[0moptions\u001b[0m\u001b[0;34m[\u001b[0m\u001b[0;34m'has_index_names'\u001b[0m\u001b[0;34m]\u001b[0m \u001b[0;34m=\u001b[0m \u001b[0mkwds\u001b[0m\u001b[0;34m[\u001b[0m\u001b[0;34m'has_index_names'\u001b[0m\u001b[0;34m]\u001b[0m\u001b[0;34m\u001b[0m\u001b[0m\n\u001b[1;32m    786\u001b[0m \u001b[0;34m\u001b[0m\u001b[0m\n\u001b[0;32m--> 787\u001b[0;31m         \u001b[0mself\u001b[0m\u001b[0;34m.\u001b[0m\u001b[0m_make_engine\u001b[0m\u001b[0;34m(\u001b[0m\u001b[0mself\u001b[0m\u001b[0;34m.\u001b[0m\u001b[0mengine\u001b[0m\u001b[0;34m)\u001b[0m\u001b[0;34m\u001b[0m\u001b[0m\n\u001b[0m\u001b[1;32m    788\u001b[0m \u001b[0;34m\u001b[0m\u001b[0m\n\u001b[1;32m    789\u001b[0m     \u001b[0;32mdef\u001b[0m \u001b[0mclose\u001b[0m\u001b[0;34m(\u001b[0m\u001b[0mself\u001b[0m\u001b[0;34m)\u001b[0m\u001b[0;34m:\u001b[0m\u001b[0;34m\u001b[0m\u001b[0m\n",
      "\u001b[0;32m~/anaconda3/envs/eq_env/lib/python3.6/site-packages/pandas/io/parsers.py\u001b[0m in \u001b[0;36m_make_engine\u001b[0;34m(self, engine)\u001b[0m\n\u001b[1;32m   1012\u001b[0m     \u001b[0;32mdef\u001b[0m \u001b[0m_make_engine\u001b[0m\u001b[0;34m(\u001b[0m\u001b[0mself\u001b[0m\u001b[0;34m,\u001b[0m \u001b[0mengine\u001b[0m\u001b[0;34m=\u001b[0m\u001b[0;34m'c'\u001b[0m\u001b[0;34m)\u001b[0m\u001b[0;34m:\u001b[0m\u001b[0;34m\u001b[0m\u001b[0m\n\u001b[1;32m   1013\u001b[0m         \u001b[0;32mif\u001b[0m \u001b[0mengine\u001b[0m \u001b[0;34m==\u001b[0m \u001b[0;34m'c'\u001b[0m\u001b[0;34m:\u001b[0m\u001b[0;34m\u001b[0m\u001b[0m\n\u001b[0;32m-> 1014\u001b[0;31m             \u001b[0mself\u001b[0m\u001b[0;34m.\u001b[0m\u001b[0m_engine\u001b[0m \u001b[0;34m=\u001b[0m \u001b[0mCParserWrapper\u001b[0m\u001b[0;34m(\u001b[0m\u001b[0mself\u001b[0m\u001b[0;34m.\u001b[0m\u001b[0mf\u001b[0m\u001b[0;34m,\u001b[0m \u001b[0;34m**\u001b[0m\u001b[0mself\u001b[0m\u001b[0;34m.\u001b[0m\u001b[0moptions\u001b[0m\u001b[0;34m)\u001b[0m\u001b[0;34m\u001b[0m\u001b[0m\n\u001b[0m\u001b[1;32m   1015\u001b[0m         \u001b[0;32melse\u001b[0m\u001b[0;34m:\u001b[0m\u001b[0;34m\u001b[0m\u001b[0m\n\u001b[1;32m   1016\u001b[0m             \u001b[0;32mif\u001b[0m \u001b[0mengine\u001b[0m \u001b[0;34m==\u001b[0m \u001b[0;34m'python'\u001b[0m\u001b[0;34m:\u001b[0m\u001b[0;34m\u001b[0m\u001b[0m\n",
      "\u001b[0;32m~/anaconda3/envs/eq_env/lib/python3.6/site-packages/pandas/io/parsers.py\u001b[0m in \u001b[0;36m__init__\u001b[0;34m(self, src, **kwds)\u001b[0m\n\u001b[1;32m   1706\u001b[0m         \u001b[0mkwds\u001b[0m\u001b[0;34m[\u001b[0m\u001b[0;34m'usecols'\u001b[0m\u001b[0;34m]\u001b[0m \u001b[0;34m=\u001b[0m \u001b[0mself\u001b[0m\u001b[0;34m.\u001b[0m\u001b[0musecols\u001b[0m\u001b[0;34m\u001b[0m\u001b[0m\n\u001b[1;32m   1707\u001b[0m \u001b[0;34m\u001b[0m\u001b[0m\n\u001b[0;32m-> 1708\u001b[0;31m         \u001b[0mself\u001b[0m\u001b[0;34m.\u001b[0m\u001b[0m_reader\u001b[0m \u001b[0;34m=\u001b[0m \u001b[0mparsers\u001b[0m\u001b[0;34m.\u001b[0m\u001b[0mTextReader\u001b[0m\u001b[0;34m(\u001b[0m\u001b[0msrc\u001b[0m\u001b[0;34m,\u001b[0m \u001b[0;34m**\u001b[0m\u001b[0mkwds\u001b[0m\u001b[0;34m)\u001b[0m\u001b[0;34m\u001b[0m\u001b[0m\n\u001b[0m\u001b[1;32m   1709\u001b[0m \u001b[0;34m\u001b[0m\u001b[0m\n\u001b[1;32m   1710\u001b[0m         \u001b[0mpassed_names\u001b[0m \u001b[0;34m=\u001b[0m \u001b[0mself\u001b[0m\u001b[0;34m.\u001b[0m\u001b[0mnames\u001b[0m \u001b[0;32mis\u001b[0m \u001b[0;32mNone\u001b[0m\u001b[0;34m\u001b[0m\u001b[0m\n",
      "\u001b[0;32mpandas/_libs/parsers.pyx\u001b[0m in \u001b[0;36mpandas._libs.parsers.TextReader.__cinit__\u001b[0;34m()\u001b[0m\n",
      "\u001b[0;32mpandas/_libs/parsers.pyx\u001b[0m in \u001b[0;36mpandas._libs.parsers.TextReader._setup_parser_source\u001b[0;34m()\u001b[0m\n",
      "\u001b[0;31mFileNotFoundError\u001b[0m: File b'Most-Recent-Cohorts-All-Data-Elements.csv' does not exist"
     ]
    }
   ],
   "source": [
    "# Package imports\n",
    "import pandas as pd\n",
    "import itertools\n",
    "import numpy as np\n",
    "import matplotlib.pyplot as plt\n",
    "import seaborn as sns\n",
    "import plotly\n",
    "import plotly.plotly as py\n",
    "import plotly.graph_objs as go\n",
    "import statsmodels.api as sm\n",
    "from sklearn import linear_model, metrics\n",
    "from sklearn.cross_validation import train_test_split\n",
    "from sklearn.metrics import confusion_matrix, roc_auc_score, roc_curve\n",
    "from sklearn.model_selection import GridSearchCV\n",
    "from sklearn.preprocessing import StandardScaler\n",
    "\n",
    "#Settings\n",
    "np.set_printoptions(suppress=True)\n",
    "\n",
    "#Functions\n",
    "def plot_confusion_matrix(cm, classes,\n",
    "                          normalize=False,\n",
    "                          title='Confusion matrix',\n",
    "                          cmap=plt.cm.Blues):\n",
    "    \"\"\"\n",
    "    This function prints and plots the confusion matrix.\n",
    "    Normalization can be applied by setting `normalize=True`.\n",
    "    \"\"\"\n",
    "    if normalize:\n",
    "        cm = cm.astype('float') / cm.sum(axis=1)[:, np.newaxis]\n",
    "        print(\"Normalized confusion matrix\")\n",
    "    else:\n",
    "        print('Confusion matrix, without normalization')\n",
    "\n",
    "    print(cm)\n",
    "\n",
    "    plt.figure(figsize=(8,8))\n",
    "    plt.imshow(cm, interpolation='nearest', cmap=cmap)\n",
    "    plt.title(title)\n",
    "    plt.colorbar()\n",
    "    tick_marks = np.arange(len(classes))\n",
    "    plt.xticks(tick_marks, classes, rotation=45)\n",
    "    plt.yticks(tick_marks, classes)\n",
    "\n",
    "    fmt = '.2f' if normalize else 'd'\n",
    "    thresh = cm.max() / 2.\n",
    "    for i, j in itertools.product(range(cm.shape[0]), range(cm.shape[1])):\n",
    "        plt.text(j, i, format(cm[i, j], fmt),\n",
    "                 horizontalalignment=\"center\",\n",
    "                 color=\"white\" if cm[i, j] > thresh else \"black\")\n",
    "\n",
    "    plt.tight_layout()\n",
    "    plt.ylabel('True label')\n",
    "    plt.xlabel('Predicted label')\n",
    "\n",
    "\n",
    "def process_cm(confusion_mat, i=0, to_print=True):\n",
    "    # i means which class to choose to do one-vs-the-rest calculation\n",
    "    # rows are actual obs whereas columns are predictions\n",
    "    TP = confusion_mat[i,i]  # correctly labeled as i\n",
    "    FP = confusion_mat[:,i].sum() - TP  # incorrectly labeled as i\n",
    "    FN = confusion_mat[i,:].sum() - TP  # incorrectly labeled as non-i\n",
    "    TN = confusion_mat.sum().sum() - TP - FP - FN\n",
    "    TPR = TP/(TP+FN) #Sensitivity (Recall)\n",
    "    FPR = FP/(FP+TN) #False positive rate\n",
    "    TNR = TN/(FP+TN) #Specificity \n",
    "    Precision = TP/(TP+FP) #Precision \n",
    "    if to_print:\n",
    "        print('TP: {}'.format(TP))\n",
    "        print('FP: {}'.format(FP))\n",
    "        print('FN: {}'.format(FN))\n",
    "        print('TN: {}'.format(TN))\n",
    "        print(\"Sensitivity (True Positive Rate): {}\".format(TPR))\n",
    "        print(\"FPR: {}\".format(FPR))\n",
    "        print(\"Specificity  (True Negative Rate): {}\".format(TNR))\n",
    "        print(\"Precision: {}:\".format(Precision))\n",
    "    return TP, FP, FN, TN, TPR, FPR, TNR,Precision\n",
    "\n",
    "\n",
    "# read in the data sets\n",
    "df = pd.read_csv('~/Documents/Stats 131/Most-Recent-Cohorts-All-Data-Elements.csv')\n",
    "location = pd.read_csv('~/Documents/Stats 131/State.csv')"
   ]
  },
  {
   "cell_type": "code",
   "execution_count": null,
   "metadata": {},
   "outputs": [],
   "source": [
    "# columns of interest\n",
    "cols = [ \"STABBR\",\"MD_EARN_WNE_P10\", \"MD_INC_DEBT_MDN\",\n",
    "        \"LO_INC_DEBT_MDN\", \"HIGHDEG\",\"DEBT_MDN\",\"PREDDEG\",\n",
    "        \"AVGFACSAL\",\"COSTT4_A\",\"CONTROL\",\"HCM2\",\"D_PCTPELL_PCTFLOAN\"]\n",
    "\n",
    "\n",
    "income = df[cols]\n",
    "income = income[income != 'PrivacySuppressed']\n",
    "income = income.dropna()\n",
    "\n",
    "#Drop these?\n",
    "income.shape\n",
    "income = income.drop(income.loc[income[\"HCM2\"] == 1,:].index)\n",
    "income.shape\n",
    "\n",
    "#class change strings into numeric\n",
    "income[cols[1:]] = income[cols[1:]].astype(float)\n",
    "\n",
    "income[\"HIGHDEG\"] = income[\"HIGHDEG\"].replace({0:\"Non-degree-granting\",\n",
    "      1:\"certificate Degree\",\n",
    "      2:\"Associate degree\",\n",
    "      3:\"Bachelor's degree\",\n",
    "      4:\"Graduate degree\"})\n",
    "\n",
    "income[\"CONTROL\"] = income[\"CONTROL\"].replace({1:\"Public\",\n",
    "      2:\"Private nonprofit \",\n",
    "      3:\"Private for-profit\"})\n",
    "\n",
    "income[\"PREDDEG\"] = income[\"PREDDEG\"].replace({0:\"Not classified\",\n",
    "      1:\"Predominantly certificate-degree granting\",\n",
    "      2:\"Predominantly associate's-degree granting\",\n",
    "      3:\"Predominantly bachelor's-degree granting\",\n",
    "      4:\"Entirely graduate-degree granting\"})\n",
    "\n",
    "# Introduce the Debt Ratio variable\n",
    "income[\"LO_INC_DEBT_RATIO\"] = income[\"LO_INC_DEBT_MDN\"]/income[\"DEBT_MDN\"]\n",
    "income[\"MD_INC_DEBT_RATIO\"] = income[\"MD_INC_DEBT_MDN\"]/income[\"DEBT_MDN\"]\n",
    "\n",
    "\n",
    "# Logistic regression\n",
    "\n",
    "# We are planning to use logistic regression, but since we have three \n",
    "# different school types, we merged private profit and private non-profit into the same group.\n",
    "subset = cols[1:12]\n",
    "subset.extend([\"MD_INC_DEBT_RATIO\"])\n",
    "X = income[subset]\n",
    "X = X.drop(columns = [\"HCM2\",\"HIGHDEG\", \"LO_INC_DEBT_MDN\", \"MD_INC_DEBT_MDN\",\n",
    "                      \"CONTROL\", \"DEBT_MDN\",\"PREDDEG\",\"MD_EARN_WNE_P10\"])\n",
    "\n",
    "y = income.iloc[:,-5]"
   ]
  },
  {
   "cell_type": "code",
   "execution_count": null,
   "metadata": {},
   "outputs": [],
   "source": [
    "corr = X.corr()\n",
    "\n",
    "# Generate a mask for the upper triangle\n",
    "mask = np.zeros_like(corr, dtype=np.bool)\n",
    "mask[np.triu_indices_from(mask)] = True\n",
    "\n",
    "# Set up the matplotlib figure\n",
    "f, ax = plt.subplots(figsize=(11, 9))\n",
    "\n",
    "# Generate a custom diverging colormap\n",
    "cmap = sns.diverging_palette(220, 10, as_cmap=True)\n",
    "\n",
    "# Draw the heatmap with the mask and correct aspect ratio\n",
    "sns.heatmap(corr, mask=mask, cmap=cmap, vmax=.3, center=0,\n",
    "            square=True, linewidths=.5, cbar_kws={\"shrink\": .5})\n",
    "plt.savefig(\"corrplot.png\")\n",
    "plt.show()\n",
    "plt.clf()\n",
    "\n",
    "# Scale the varibles using the scaler\n",
    "scaler = StandardScaler(with_std=True)\n",
    "X[:] = scaler.fit_transform(X)\n",
    "sns.pairplot(X)\n",
    "plt.savefig(\"Pairplot.png\")\n",
    "plt.show()\n",
    "plt.clf()"
   ]
  },
  {
   "cell_type": "markdown",
   "metadata": {},
   "source": [
    "The first plot above shows the correlation between our chosen predictor variables. We can see that we can have a mixture of positively and negatively slightly correlated variables. We observe that cost of attendance (COSTT4_A)is slightly correlated (~0.25) with average faculty salary (AVGFACSAC). \n",
    "\n",
    "Next, the large pairplot gives us a good look at the scatterplots produced by different combinations of our predictor variables. We can right away that there is no direct relationships or patterns. Interestingly we can see the fact that average faculty salary is actually close to being normally distributed and cost of attendance at first rises fast but then has a long tail in the right."
   ]
  },
  {
   "cell_type": "code",
   "execution_count": null,
   "metadata": {},
   "outputs": [],
   "source": [
    "# fix y to have 2 levels and set is as categorical\n",
    "y = y.replace({\"Public\":0,\n",
    "               \"Private nonprofit \":1,\n",
    "               \"Private for-profit\":1})\n",
    "\n",
    "y = y.astype(\"category\")\n",
    "\n",
    "train_x.shape\n",
    "\n",
    "# Split X and y into training and testing sets with 70%\n",
    "train_x, test_x, train_y, test_y = train_test_split(X,y, train_size=0.7, random_state = 20)\n",
    "\n",
    "# fit the model with 'sklearn' package\n",
    "log = linear_model.LogisticRegression()\n",
    "log.fit(train_x, train_y)"
   ]
  },
  {
   "cell_type": "code",
   "execution_count": null,
   "metadata": {},
   "outputs": [],
   "source": [
    "class_name = [\"Public\", \"Private\"]\n",
    "print(metrics.accuracy_score(test_y, log.predict(test_x)))\n",
    "cm = confusion_matrix(test_y, log.predict(test_x))\n",
    "plot_confusion_matrix(cm,class_name)\n",
    "plt.savefig(\"cm_plot.png\")\n",
    "plt.show()\n",
    "plt.clf()"
   ]
  },
  {
   "cell_type": "markdown",
   "metadata": {},
   "source": [
    "Above, is the summary of the model outcomes of the regression model we fitted. We can see that all of the p-values of our predictors are less than the common alpha level of 0.05. We can also see that we have a preudo R-squared of 0.832"
   ]
  },
  {
   "cell_type": "code",
   "execution_count": null,
   "metadata": {},
   "outputs": [],
   "source": [
    "#ROC analysis\n",
    "logit_roc_auc = roc_auc_score(test_y, log.predict(test_x))\n",
    "fpr, tpr, thresholds = roc_curve(test_y, log.predict_proba(test_x)[:,1])\n",
    "plt.figure(figsize=(8,8))\n",
    "plt.plot(fpr, tpr, label='Logistic Regression (area = %0.2f)' % logit_roc_auc)\n",
    "plt.plot([0, 1], [0, 1],'r--')\n",
    "plt.xlim([-0.1, 1.0])\n",
    "plt.ylim([-0.1, 1.05])\n",
    "plt.xlabel('False Positive Rate')\n",
    "plt.ylabel('True Positive Rate')\n",
    "plt.title('Receiver operating characteristic')\n",
    "plt.legend(loc=\"lower right\")\n",
    "plt.savefig(\"ROC.png\")\n",
    "plt.show()"
   ]
  },
  {
   "cell_type": "markdown",
   "metadata": {},
   "source": [
    "The ROC above shows us another way to evaluate the performance of our model. We can see that the curve rises sharply with the area under the curve being 0.97. This is a great indicator of the success of our model to capture variance in the response variable.  "
   ]
  },
  {
   "cell_type": "code",
   "execution_count": null,
   "metadata": {},
   "outputs": [],
   "source": [
    "# Model diagnostic statistics\n",
    "process_cm(cm)\n",
    "\n",
    "#public\n",
    "print(\"Number of public schools:\", y[y==0].count())\n",
    "#private\n",
    "print(\"Number of private schools:\", y[y==1].count())"
   ]
  },
  {
   "cell_type": "code",
   "execution_count": null,
   "metadata": {},
   "outputs": [],
   "source": [
    "# Below we are using a K-fold method in order to check our model accuracy. \n",
    "# We can see that all of the folds are very good and returns us a good accuracy estimate\n",
    "param_grid = {}\n",
    "log_cv = GridSearchCV(log, param_grid, cv = 10)\n",
    "log_cv.fit(train_x, train_y)\n",
    "print(log_cv.cv_results_)\n",
    "print(log_cv.grid_scores_)"
   ]
  }
 ],
 "metadata": {
  "kernelspec": {
   "display_name": "Python 3",
   "language": "python",
   "name": "python3"
  },
  "language_info": {
   "codemirror_mode": {
    "name": "ipython",
    "version": 3
   },
   "file_extension": ".py",
   "mimetype": "text/x-python",
   "name": "python",
   "nbconvert_exporter": "python",
   "pygments_lexer": "ipython3",
   "version": "3.6.5"
  }
 },
 "nbformat": 4,
 "nbformat_minor": 2
}
